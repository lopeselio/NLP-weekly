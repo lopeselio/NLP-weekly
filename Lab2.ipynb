{
  "nbformat": 4,
  "nbformat_minor": 0,
  "metadata": {
    "colab": {
      "name": "Lab2",
      "provenance": [],
      "collapsed_sections": [],
      "authorship_tag": "ABX9TyNIr/rikS53Ti84iu9Z9ETr",
      "include_colab_link": true
    },
    "kernelspec": {
      "name": "python3",
      "display_name": "Python 3"
    }
  },
  "cells": [
    {
      "cell_type": "markdown",
      "metadata": {
        "id": "view-in-github",
        "colab_type": "text"
      },
      "source": [
        "<a href=\"https://colab.research.google.com/github/lopeselio/NLP-weekly/blob/master/Lab2.ipynb\" target=\"_parent\"><img src=\"https://colab.research.google.com/assets/colab-badge.svg\" alt=\"Open In Colab\"/></a>"
      ]
    },
    {
      "cell_type": "code",
      "metadata": {
        "id": "FJgfXValINy0",
        "colab_type": "code",
        "colab": {
          "base_uri": "https://localhost:8080/",
          "height": 1000
        },
        "outputId": "c1847df8-7902-4881-e460-d4ed0ed48efe"
      },
      "source": [
        "import nltk\n",
        "nltk.download(\"all\")"
      ],
      "execution_count": 2,
      "outputs": [
        {
          "output_type": "stream",
          "text": [
            "[nltk_data] Downloading collection 'all'\n",
            "[nltk_data]    | \n",
            "[nltk_data]    | Downloading package abc to /root/nltk_data...\n",
            "[nltk_data]    |   Unzipping corpora/abc.zip.\n",
            "[nltk_data]    | Downloading package alpino to /root/nltk_data...\n",
            "[nltk_data]    |   Unzipping corpora/alpino.zip.\n",
            "[nltk_data]    | Downloading package biocreative_ppi to\n",
            "[nltk_data]    |     /root/nltk_data...\n",
            "[nltk_data]    |   Unzipping corpora/biocreative_ppi.zip.\n",
            "[nltk_data]    | Downloading package brown to /root/nltk_data...\n",
            "[nltk_data]    |   Unzipping corpora/brown.zip.\n",
            "[nltk_data]    | Downloading package brown_tei to /root/nltk_data...\n",
            "[nltk_data]    |   Unzipping corpora/brown_tei.zip.\n",
            "[nltk_data]    | Downloading package cess_cat to /root/nltk_data...\n",
            "[nltk_data]    |   Unzipping corpora/cess_cat.zip.\n",
            "[nltk_data]    | Downloading package cess_esp to /root/nltk_data...\n",
            "[nltk_data]    |   Unzipping corpora/cess_esp.zip.\n",
            "[nltk_data]    | Downloading package chat80 to /root/nltk_data...\n",
            "[nltk_data]    |   Unzipping corpora/chat80.zip.\n",
            "[nltk_data]    | Downloading package city_database to\n",
            "[nltk_data]    |     /root/nltk_data...\n",
            "[nltk_data]    |   Unzipping corpora/city_database.zip.\n",
            "[nltk_data]    | Downloading package cmudict to /root/nltk_data...\n",
            "[nltk_data]    |   Unzipping corpora/cmudict.zip.\n",
            "[nltk_data]    | Downloading package comparative_sentences to\n",
            "[nltk_data]    |     /root/nltk_data...\n",
            "[nltk_data]    |   Unzipping corpora/comparative_sentences.zip.\n",
            "[nltk_data]    | Downloading package comtrans to /root/nltk_data...\n",
            "[nltk_data]    | Downloading package conll2000 to /root/nltk_data...\n",
            "[nltk_data]    |   Unzipping corpora/conll2000.zip.\n",
            "[nltk_data]    | Downloading package conll2002 to /root/nltk_data...\n",
            "[nltk_data]    |   Unzipping corpora/conll2002.zip.\n",
            "[nltk_data]    | Downloading package conll2007 to /root/nltk_data...\n",
            "[nltk_data]    | Downloading package crubadan to /root/nltk_data...\n",
            "[nltk_data]    |   Unzipping corpora/crubadan.zip.\n",
            "[nltk_data]    | Downloading package dependency_treebank to\n",
            "[nltk_data]    |     /root/nltk_data...\n",
            "[nltk_data]    |   Unzipping corpora/dependency_treebank.zip.\n",
            "[nltk_data]    | Downloading package dolch to /root/nltk_data...\n",
            "[nltk_data]    |   Unzipping corpora/dolch.zip.\n",
            "[nltk_data]    | Downloading package europarl_raw to\n",
            "[nltk_data]    |     /root/nltk_data...\n",
            "[nltk_data]    |   Unzipping corpora/europarl_raw.zip.\n",
            "[nltk_data]    | Downloading package floresta to /root/nltk_data...\n",
            "[nltk_data]    |   Unzipping corpora/floresta.zip.\n",
            "[nltk_data]    | Downloading package framenet_v15 to\n",
            "[nltk_data]    |     /root/nltk_data...\n",
            "[nltk_data]    |   Unzipping corpora/framenet_v15.zip.\n",
            "[nltk_data]    | Downloading package framenet_v17 to\n",
            "[nltk_data]    |     /root/nltk_data...\n",
            "[nltk_data]    |   Unzipping corpora/framenet_v17.zip.\n",
            "[nltk_data]    | Downloading package gazetteers to /root/nltk_data...\n",
            "[nltk_data]    |   Unzipping corpora/gazetteers.zip.\n",
            "[nltk_data]    | Downloading package genesis to /root/nltk_data...\n",
            "[nltk_data]    |   Unzipping corpora/genesis.zip.\n",
            "[nltk_data]    | Downloading package gutenberg to /root/nltk_data...\n",
            "[nltk_data]    |   Unzipping corpora/gutenberg.zip.\n",
            "[nltk_data]    | Downloading package ieer to /root/nltk_data...\n",
            "[nltk_data]    |   Unzipping corpora/ieer.zip.\n",
            "[nltk_data]    | Downloading package inaugural to /root/nltk_data...\n",
            "[nltk_data]    |   Unzipping corpora/inaugural.zip.\n",
            "[nltk_data]    | Downloading package indian to /root/nltk_data...\n",
            "[nltk_data]    |   Unzipping corpora/indian.zip.\n",
            "[nltk_data]    | Downloading package jeita to /root/nltk_data...\n",
            "[nltk_data]    | Downloading package kimmo to /root/nltk_data...\n",
            "[nltk_data]    |   Unzipping corpora/kimmo.zip.\n",
            "[nltk_data]    | Downloading package knbc to /root/nltk_data...\n",
            "[nltk_data]    | Downloading package lin_thesaurus to\n",
            "[nltk_data]    |     /root/nltk_data...\n",
            "[nltk_data]    |   Unzipping corpora/lin_thesaurus.zip.\n",
            "[nltk_data]    | Downloading package mac_morpho to /root/nltk_data...\n",
            "[nltk_data]    |   Unzipping corpora/mac_morpho.zip.\n",
            "[nltk_data]    | Downloading package machado to /root/nltk_data...\n",
            "[nltk_data]    | Downloading package masc_tagged to /root/nltk_data...\n",
            "[nltk_data]    | Downloading package moses_sample to\n",
            "[nltk_data]    |     /root/nltk_data...\n",
            "[nltk_data]    |   Unzipping models/moses_sample.zip.\n",
            "[nltk_data]    | Downloading package movie_reviews to\n",
            "[nltk_data]    |     /root/nltk_data...\n",
            "[nltk_data]    |   Unzipping corpora/movie_reviews.zip.\n",
            "[nltk_data]    | Downloading package names to /root/nltk_data...\n",
            "[nltk_data]    |   Unzipping corpora/names.zip.\n",
            "[nltk_data]    | Downloading package nombank.1.0 to /root/nltk_data...\n",
            "[nltk_data]    | Downloading package nps_chat to /root/nltk_data...\n",
            "[nltk_data]    |   Unzipping corpora/nps_chat.zip.\n",
            "[nltk_data]    | Downloading package omw to /root/nltk_data...\n",
            "[nltk_data]    |   Unzipping corpora/omw.zip.\n",
            "[nltk_data]    | Downloading package opinion_lexicon to\n",
            "[nltk_data]    |     /root/nltk_data...\n",
            "[nltk_data]    |   Unzipping corpora/opinion_lexicon.zip.\n",
            "[nltk_data]    | Downloading package paradigms to /root/nltk_data...\n",
            "[nltk_data]    |   Unzipping corpora/paradigms.zip.\n",
            "[nltk_data]    | Downloading package pil to /root/nltk_data...\n",
            "[nltk_data]    |   Unzipping corpora/pil.zip.\n",
            "[nltk_data]    | Downloading package pl196x to /root/nltk_data...\n",
            "[nltk_data]    |   Unzipping corpora/pl196x.zip.\n",
            "[nltk_data]    | Downloading package ppattach to /root/nltk_data...\n",
            "[nltk_data]    |   Unzipping corpora/ppattach.zip.\n",
            "[nltk_data]    | Downloading package problem_reports to\n",
            "[nltk_data]    |     /root/nltk_data...\n",
            "[nltk_data]    |   Unzipping corpora/problem_reports.zip.\n",
            "[nltk_data]    | Downloading package propbank to /root/nltk_data...\n",
            "[nltk_data]    | Downloading package ptb to /root/nltk_data...\n",
            "[nltk_data]    |   Unzipping corpora/ptb.zip.\n",
            "[nltk_data]    | Downloading package product_reviews_1 to\n",
            "[nltk_data]    |     /root/nltk_data...\n",
            "[nltk_data]    |   Unzipping corpora/product_reviews_1.zip.\n",
            "[nltk_data]    | Downloading package product_reviews_2 to\n",
            "[nltk_data]    |     /root/nltk_data...\n",
            "[nltk_data]    |   Unzipping corpora/product_reviews_2.zip.\n",
            "[nltk_data]    | Downloading package pros_cons to /root/nltk_data...\n",
            "[nltk_data]    |   Unzipping corpora/pros_cons.zip.\n",
            "[nltk_data]    | Downloading package qc to /root/nltk_data...\n",
            "[nltk_data]    |   Unzipping corpora/qc.zip.\n",
            "[nltk_data]    | Downloading package reuters to /root/nltk_data...\n",
            "[nltk_data]    | Downloading package rte to /root/nltk_data...\n",
            "[nltk_data]    |   Unzipping corpora/rte.zip.\n",
            "[nltk_data]    | Downloading package semcor to /root/nltk_data...\n",
            "[nltk_data]    | Downloading package senseval to /root/nltk_data...\n",
            "[nltk_data]    |   Unzipping corpora/senseval.zip.\n",
            "[nltk_data]    | Downloading package sentiwordnet to\n",
            "[nltk_data]    |     /root/nltk_data...\n",
            "[nltk_data]    |   Unzipping corpora/sentiwordnet.zip.\n",
            "[nltk_data]    | Downloading package sentence_polarity to\n",
            "[nltk_data]    |     /root/nltk_data...\n",
            "[nltk_data]    |   Unzipping corpora/sentence_polarity.zip.\n",
            "[nltk_data]    | Downloading package shakespeare to /root/nltk_data...\n",
            "[nltk_data]    |   Unzipping corpora/shakespeare.zip.\n",
            "[nltk_data]    | Downloading package sinica_treebank to\n",
            "[nltk_data]    |     /root/nltk_data...\n",
            "[nltk_data]    |   Unzipping corpora/sinica_treebank.zip.\n",
            "[nltk_data]    | Downloading package smultron to /root/nltk_data...\n",
            "[nltk_data]    |   Unzipping corpora/smultron.zip.\n",
            "[nltk_data]    | Downloading package state_union to /root/nltk_data...\n",
            "[nltk_data]    |   Unzipping corpora/state_union.zip.\n",
            "[nltk_data]    | Downloading package stopwords to /root/nltk_data...\n",
            "[nltk_data]    |   Unzipping corpora/stopwords.zip.\n",
            "[nltk_data]    | Downloading package subjectivity to\n",
            "[nltk_data]    |     /root/nltk_data...\n",
            "[nltk_data]    |   Unzipping corpora/subjectivity.zip.\n",
            "[nltk_data]    | Downloading package swadesh to /root/nltk_data...\n",
            "[nltk_data]    |   Unzipping corpora/swadesh.zip.\n",
            "[nltk_data]    | Downloading package switchboard to /root/nltk_data...\n",
            "[nltk_data]    |   Unzipping corpora/switchboard.zip.\n",
            "[nltk_data]    | Downloading package timit to /root/nltk_data...\n",
            "[nltk_data]    |   Unzipping corpora/timit.zip.\n",
            "[nltk_data]    | Downloading package toolbox to /root/nltk_data...\n",
            "[nltk_data]    |   Unzipping corpora/toolbox.zip.\n",
            "[nltk_data]    | Downloading package treebank to /root/nltk_data...\n",
            "[nltk_data]    |   Unzipping corpora/treebank.zip.\n",
            "[nltk_data]    | Downloading package twitter_samples to\n",
            "[nltk_data]    |     /root/nltk_data...\n",
            "[nltk_data]    |   Unzipping corpora/twitter_samples.zip.\n",
            "[nltk_data]    | Downloading package udhr to /root/nltk_data...\n",
            "[nltk_data]    |   Unzipping corpora/udhr.zip.\n",
            "[nltk_data]    | Downloading package udhr2 to /root/nltk_data...\n",
            "[nltk_data]    |   Unzipping corpora/udhr2.zip.\n",
            "[nltk_data]    | Downloading package unicode_samples to\n",
            "[nltk_data]    |     /root/nltk_data...\n",
            "[nltk_data]    |   Unzipping corpora/unicode_samples.zip.\n",
            "[nltk_data]    | Downloading package universal_treebanks_v20 to\n",
            "[nltk_data]    |     /root/nltk_data...\n",
            "[nltk_data]    | Downloading package verbnet to /root/nltk_data...\n",
            "[nltk_data]    |   Unzipping corpora/verbnet.zip.\n",
            "[nltk_data]    | Downloading package verbnet3 to /root/nltk_data...\n",
            "[nltk_data]    |   Unzipping corpora/verbnet3.zip.\n",
            "[nltk_data]    | Downloading package webtext to /root/nltk_data...\n",
            "[nltk_data]    |   Unzipping corpora/webtext.zip.\n",
            "[nltk_data]    | Downloading package wordnet to /root/nltk_data...\n",
            "[nltk_data]    |   Unzipping corpora/wordnet.zip.\n",
            "[nltk_data]    | Downloading package wordnet_ic to /root/nltk_data...\n",
            "[nltk_data]    |   Unzipping corpora/wordnet_ic.zip.\n",
            "[nltk_data]    | Downloading package words to /root/nltk_data...\n",
            "[nltk_data]    |   Unzipping corpora/words.zip.\n",
            "[nltk_data]    | Downloading package ycoe to /root/nltk_data...\n",
            "[nltk_data]    |   Unzipping corpora/ycoe.zip.\n",
            "[nltk_data]    | Downloading package rslp to /root/nltk_data...\n",
            "[nltk_data]    |   Unzipping stemmers/rslp.zip.\n",
            "[nltk_data]    | Downloading package maxent_treebank_pos_tagger to\n",
            "[nltk_data]    |     /root/nltk_data...\n",
            "[nltk_data]    |   Unzipping taggers/maxent_treebank_pos_tagger.zip.\n",
            "[nltk_data]    | Downloading package universal_tagset to\n",
            "[nltk_data]    |     /root/nltk_data...\n",
            "[nltk_data]    |   Unzipping taggers/universal_tagset.zip.\n",
            "[nltk_data]    | Downloading package maxent_ne_chunker to\n",
            "[nltk_data]    |     /root/nltk_data...\n",
            "[nltk_data]    |   Unzipping chunkers/maxent_ne_chunker.zip.\n",
            "[nltk_data]    | Downloading package punkt to /root/nltk_data...\n",
            "[nltk_data]    |   Unzipping tokenizers/punkt.zip.\n",
            "[nltk_data]    | Downloading package book_grammars to\n",
            "[nltk_data]    |     /root/nltk_data...\n",
            "[nltk_data]    |   Unzipping grammars/book_grammars.zip.\n",
            "[nltk_data]    | Downloading package sample_grammars to\n",
            "[nltk_data]    |     /root/nltk_data...\n",
            "[nltk_data]    |   Unzipping grammars/sample_grammars.zip.\n",
            "[nltk_data]    | Downloading package spanish_grammars to\n",
            "[nltk_data]    |     /root/nltk_data...\n",
            "[nltk_data]    |   Unzipping grammars/spanish_grammars.zip.\n",
            "[nltk_data]    | Downloading package basque_grammars to\n",
            "[nltk_data]    |     /root/nltk_data...\n",
            "[nltk_data]    |   Unzipping grammars/basque_grammars.zip.\n",
            "[nltk_data]    | Downloading package large_grammars to\n",
            "[nltk_data]    |     /root/nltk_data...\n",
            "[nltk_data]    |   Unzipping grammars/large_grammars.zip.\n",
            "[nltk_data]    | Downloading package tagsets to /root/nltk_data...\n",
            "[nltk_data]    |   Unzipping help/tagsets.zip.\n",
            "[nltk_data]    | Downloading package snowball_data to\n",
            "[nltk_data]    |     /root/nltk_data...\n",
            "[nltk_data]    | Downloading package bllip_wsj_no_aux to\n",
            "[nltk_data]    |     /root/nltk_data...\n",
            "[nltk_data]    |   Unzipping models/bllip_wsj_no_aux.zip.\n",
            "[nltk_data]    | Downloading package word2vec_sample to\n",
            "[nltk_data]    |     /root/nltk_data...\n",
            "[nltk_data]    |   Unzipping models/word2vec_sample.zip.\n",
            "[nltk_data]    | Downloading package panlex_swadesh to\n",
            "[nltk_data]    |     /root/nltk_data...\n",
            "[nltk_data]    | Downloading package mte_teip5 to /root/nltk_data...\n",
            "[nltk_data]    |   Unzipping corpora/mte_teip5.zip.\n",
            "[nltk_data]    | Downloading package averaged_perceptron_tagger to\n",
            "[nltk_data]    |     /root/nltk_data...\n",
            "[nltk_data]    |   Unzipping taggers/averaged_perceptron_tagger.zip.\n",
            "[nltk_data]    | Downloading package averaged_perceptron_tagger_ru to\n",
            "[nltk_data]    |     /root/nltk_data...\n",
            "[nltk_data]    |   Unzipping\n",
            "[nltk_data]    |       taggers/averaged_perceptron_tagger_ru.zip.\n",
            "[nltk_data]    | Downloading package perluniprops to\n",
            "[nltk_data]    |     /root/nltk_data...\n",
            "[nltk_data]    |   Unzipping misc/perluniprops.zip.\n",
            "[nltk_data]    | Downloading package nonbreaking_prefixes to\n",
            "[nltk_data]    |     /root/nltk_data...\n",
            "[nltk_data]    |   Unzipping corpora/nonbreaking_prefixes.zip.\n",
            "[nltk_data]    | Downloading package vader_lexicon to\n",
            "[nltk_data]    |     /root/nltk_data...\n",
            "[nltk_data]    | Downloading package porter_test to /root/nltk_data...\n",
            "[nltk_data]    |   Unzipping stemmers/porter_test.zip.\n",
            "[nltk_data]    | Downloading package wmt15_eval to /root/nltk_data...\n",
            "[nltk_data]    |   Unzipping models/wmt15_eval.zip.\n",
            "[nltk_data]    | Downloading package mwa_ppdb to /root/nltk_data...\n",
            "[nltk_data]    |   Unzipping misc/mwa_ppdb.zip.\n",
            "[nltk_data]    | \n",
            "[nltk_data]  Done downloading collection all\n"
          ],
          "name": "stdout"
        },
        {
          "output_type": "execute_result",
          "data": {
            "text/plain": [
              "True"
            ]
          },
          "metadata": {
            "tags": []
          },
          "execution_count": 2
        }
      ]
    },
    {
      "cell_type": "code",
      "metadata": {
        "id": "qajEE3rYI04P",
        "colab_type": "code",
        "colab": {
          "base_uri": "https://localhost:8080/",
          "height": 1000
        },
        "outputId": "0cd29246-a8fe-436d-9b2e-51e7ebb9b209"
      },
      "source": [
        "from nltk.corpus import stopwords\n",
        "stopwords.words('english')"
      ],
      "execution_count": 3,
      "outputs": [
        {
          "output_type": "execute_result",
          "data": {
            "text/plain": [
              "['i',\n",
              " 'me',\n",
              " 'my',\n",
              " 'myself',\n",
              " 'we',\n",
              " 'our',\n",
              " 'ours',\n",
              " 'ourselves',\n",
              " 'you',\n",
              " \"you're\",\n",
              " \"you've\",\n",
              " \"you'll\",\n",
              " \"you'd\",\n",
              " 'your',\n",
              " 'yours',\n",
              " 'yourself',\n",
              " 'yourselves',\n",
              " 'he',\n",
              " 'him',\n",
              " 'his',\n",
              " 'himself',\n",
              " 'she',\n",
              " \"she's\",\n",
              " 'her',\n",
              " 'hers',\n",
              " 'herself',\n",
              " 'it',\n",
              " \"it's\",\n",
              " 'its',\n",
              " 'itself',\n",
              " 'they',\n",
              " 'them',\n",
              " 'their',\n",
              " 'theirs',\n",
              " 'themselves',\n",
              " 'what',\n",
              " 'which',\n",
              " 'who',\n",
              " 'whom',\n",
              " 'this',\n",
              " 'that',\n",
              " \"that'll\",\n",
              " 'these',\n",
              " 'those',\n",
              " 'am',\n",
              " 'is',\n",
              " 'are',\n",
              " 'was',\n",
              " 'were',\n",
              " 'be',\n",
              " 'been',\n",
              " 'being',\n",
              " 'have',\n",
              " 'has',\n",
              " 'had',\n",
              " 'having',\n",
              " 'do',\n",
              " 'does',\n",
              " 'did',\n",
              " 'doing',\n",
              " 'a',\n",
              " 'an',\n",
              " 'the',\n",
              " 'and',\n",
              " 'but',\n",
              " 'if',\n",
              " 'or',\n",
              " 'because',\n",
              " 'as',\n",
              " 'until',\n",
              " 'while',\n",
              " 'of',\n",
              " 'at',\n",
              " 'by',\n",
              " 'for',\n",
              " 'with',\n",
              " 'about',\n",
              " 'against',\n",
              " 'between',\n",
              " 'into',\n",
              " 'through',\n",
              " 'during',\n",
              " 'before',\n",
              " 'after',\n",
              " 'above',\n",
              " 'below',\n",
              " 'to',\n",
              " 'from',\n",
              " 'up',\n",
              " 'down',\n",
              " 'in',\n",
              " 'out',\n",
              " 'on',\n",
              " 'off',\n",
              " 'over',\n",
              " 'under',\n",
              " 'again',\n",
              " 'further',\n",
              " 'then',\n",
              " 'once',\n",
              " 'here',\n",
              " 'there',\n",
              " 'when',\n",
              " 'where',\n",
              " 'why',\n",
              " 'how',\n",
              " 'all',\n",
              " 'any',\n",
              " 'both',\n",
              " 'each',\n",
              " 'few',\n",
              " 'more',\n",
              " 'most',\n",
              " 'other',\n",
              " 'some',\n",
              " 'such',\n",
              " 'no',\n",
              " 'nor',\n",
              " 'not',\n",
              " 'only',\n",
              " 'own',\n",
              " 'same',\n",
              " 'so',\n",
              " 'than',\n",
              " 'too',\n",
              " 'very',\n",
              " 's',\n",
              " 't',\n",
              " 'can',\n",
              " 'will',\n",
              " 'just',\n",
              " 'don',\n",
              " \"don't\",\n",
              " 'should',\n",
              " \"should've\",\n",
              " 'now',\n",
              " 'd',\n",
              " 'll',\n",
              " 'm',\n",
              " 'o',\n",
              " 're',\n",
              " 've',\n",
              " 'y',\n",
              " 'ain',\n",
              " 'aren',\n",
              " \"aren't\",\n",
              " 'couldn',\n",
              " \"couldn't\",\n",
              " 'didn',\n",
              " \"didn't\",\n",
              " 'doesn',\n",
              " \"doesn't\",\n",
              " 'hadn',\n",
              " \"hadn't\",\n",
              " 'hasn',\n",
              " \"hasn't\",\n",
              " 'haven',\n",
              " \"haven't\",\n",
              " 'isn',\n",
              " \"isn't\",\n",
              " 'ma',\n",
              " 'mightn',\n",
              " \"mightn't\",\n",
              " 'mustn',\n",
              " \"mustn't\",\n",
              " 'needn',\n",
              " \"needn't\",\n",
              " 'shan',\n",
              " \"shan't\",\n",
              " 'shouldn',\n",
              " \"shouldn't\",\n",
              " 'wasn',\n",
              " \"wasn't\",\n",
              " 'weren',\n",
              " \"weren't\",\n",
              " 'won',\n",
              " \"won't\",\n",
              " 'wouldn',\n",
              " \"wouldn't\"]"
            ]
          },
          "metadata": {
            "tags": []
          },
          "execution_count": 3
        }
      ]
    },
    {
      "cell_type": "code",
      "metadata": {
        "id": "1MegZl-dI6Tv",
        "colab_type": "code",
        "colab": {
          "base_uri": "https://localhost:8080/",
          "height": 1000
        },
        "outputId": "e736e6eb-7e4b-4823-8203-b9e5ff0792f6"
      },
      "source": [
        "import nltk\n",
        "entries=nltk.corpus.cmudict.entries()\n",
        "len(entries)\n",
        "entries[50000:50100]"
      ],
      "execution_count": 4,
      "outputs": [
        {
          "output_type": "execute_result",
          "data": {
            "text/plain": [
              "[('griffon', ['G', 'R', 'IH1', 'F', 'AH0', 'N']),\n",
              " ('griffy', ['G', 'R', 'IH1', 'F', 'IY0']),\n",
              " ('grigas', ['G', 'R', 'AY1', 'G', 'AH0', 'Z']),\n",
              " ('grigg', ['G', 'R', 'IH1', 'G']),\n",
              " ('griggs', ['G', 'R', 'IH1', 'G', 'Z']),\n",
              " ('griggy', ['G', 'R', 'IH1', 'G', 'IY0']),\n",
              " ('grignon', ['G', 'R', 'IH1', 'G', 'N', 'AH0', 'N']),\n",
              " ('grigoli', ['G', 'R', 'IH0', 'G', 'OW1', 'L', 'IY0']),\n",
              " ('grigorovich', ['G', 'R', 'IH0', 'G', 'AO1', 'R', 'AH0', 'V', 'IH0', 'CH']),\n",
              " ('grigory', ['G', 'R', 'EH1', 'G', 'ER0', 'IY0']),\n",
              " ('grigory', ['G', 'R', 'IY1', 'G', 'ER0', 'IY0']),\n",
              " ('grigoryant', ['G', 'R', 'IH0', 'G', 'AO1', 'R', 'Y', 'AE0', 'N', 'T']),\n",
              " ('grigoryants',\n",
              "  ['G', 'R', 'IH0', 'G', 'AO1', 'R', 'Y', 'AE0', 'N', 'T', 'S']),\n",
              " ('grigsby', ['G', 'R', 'IH1', 'G', 'Z', 'B', 'IY0']),\n",
              " ('grijalva', ['G', 'R', 'IY0', 'Y', 'AA1', 'L', 'V', 'AH0']),\n",
              " ('grill', ['G', 'R', 'IH1', 'L']),\n",
              " ('grille', ['G', 'R', 'IH1', 'L']),\n",
              " ('grilled', ['G', 'R', 'IH1', 'L', 'D']),\n",
              " ('grilli', ['G', 'R', 'IH1', 'L', 'IY0']),\n",
              " ('grilling', ['G', 'R', 'IH1', 'L', 'IH0', 'NG']),\n",
              " ('grilliot', ['G', 'R', 'IH1', 'L', 'IY0', 'AH0', 'T']),\n",
              " ('grillo', ['G', 'R', 'IH1', 'L', 'OW0']),\n",
              " ('grillot', ['G', 'R', 'IH1', 'L', 'AH0', 'T']),\n",
              " ('grills', ['G', 'R', 'IH1', 'L', 'Z']),\n",
              " ('grim', ['G', 'R', 'IH1', 'M']),\n",
              " ('grima', ['G', 'R', 'IY1', 'M', 'AH0']),\n",
              " ('grimace', ['G', 'R', 'IH1', 'M', 'AH0', 'S']),\n",
              " ('grimaced', ['G', 'R', 'IH1', 'M', 'AH0', 'S', 'T']),\n",
              " ('grimaces', ['G', 'R', 'IH1', 'M', 'AH0', 'S', 'IH0', 'Z']),\n",
              " ('grimacing', ['G', 'R', 'IH1', 'M', 'AH0', 'S', 'IH0', 'NG']),\n",
              " ('grimaldi', ['G', 'R', 'IY0', 'M', 'AA1', 'L', 'D', 'IY0']),\n",
              " ('grimaldo', ['G', 'R', 'IY0', 'M', 'AA1', 'L', 'D', 'OW0']),\n",
              " ('grime', ['G', 'R', 'AY1', 'M']),\n",
              " ('grimes', ['G', 'R', 'AY1', 'M', 'Z']),\n",
              " ('grimley', ['G', 'R', 'IH1', 'M', 'L', 'IY0']),\n",
              " ('grimly', ['G', 'R', 'IH1', 'M', 'L', 'IY0']),\n",
              " ('grimm', ['G', 'R', 'IH1', 'M']),\n",
              " ('grimme', ['G', 'R', 'IH1', 'M']),\n",
              " ('grimmer', ['G', 'R', 'IH1', 'M', 'ER0']),\n",
              " ('grimmest', ['G', 'R', 'IH1', 'M', 'AH0', 'S', 'T']),\n",
              " ('grimmett', ['G', 'R', 'IH1', 'M', 'IH0', 'T']),\n",
              " (\"grimm's\", ['G', 'R', 'IH1', 'M', 'Z']),\n",
              " ('grimness', ['G', 'R', 'IH1', 'M', 'N', 'AH0', 'S']),\n",
              " ('grimshaw', ['G', 'R', 'IH1', 'M', 'SH', 'AO2']),\n",
              " ('grimsley', ['G', 'R', 'IH1', 'M', 'Z', 'L', 'IY0']),\n",
              " ('grimstad', ['G', 'R', 'IH1', 'M', 'S', 'T', 'AH0', 'D']),\n",
              " ('grimwood', ['G', 'R', 'IH1', 'M', 'W', 'UH2', 'D']),\n",
              " ('grimy', ['G', 'R', 'AY1', 'M', 'IY0']),\n",
              " ('grin', ['G', 'R', 'IH1', 'N']),\n",
              " ('grinage', ['G', 'R', 'IH1', 'N', 'IH0', 'JH']),\n",
              " ('grinald', ['G', 'R', 'IH0', 'N', 'AA1', 'L', 'D']),\n",
              " ('grinalds', ['G', 'R', 'IH0', 'N', 'AA1', 'L', 'D', 'Z']),\n",
              " ('grinberg', ['G', 'R', 'IH1', 'N', 'B', 'ER0', 'G']),\n",
              " ('grinch', ['G', 'R', 'IH1', 'N', 'CH']),\n",
              " ('grind', ['G', 'R', 'AY1', 'N', 'D']),\n",
              " ('grinde', ['G', 'R', 'IH1', 'N', 'D']),\n",
              " ('grinder', ['G', 'R', 'AY1', 'N', 'D', 'ER0']),\n",
              " ('grinders', ['G', 'R', 'AY1', 'N', 'D', 'ER0', 'Z']),\n",
              " ('grinding', ['G', 'R', 'AY1', 'N', 'D', 'IH0', 'NG']),\n",
              " ('grindlay', ['G', 'R', 'AY1', 'N', 'D', 'L', 'EY2']),\n",
              " ('grindlay', ['G', 'R', 'IH1', 'N', 'D', 'L', 'IY2']),\n",
              " ('grindlays', ['G', 'R', 'AY1', 'N', 'D', 'L', 'EY2', 'Z']),\n",
              " ('grindlays', ['G', 'R', 'IH1', 'N', 'D', 'L', 'IY2', 'Z']),\n",
              " ('grindle', ['G', 'R', 'IH1', 'N', 'D', 'AH0', 'L']),\n",
              " ('grindley', ['G', 'R', 'IH1', 'N', 'D', 'L', 'IY0']),\n",
              " ('grindrod', ['G', 'R', 'AY1', 'N', 'D', 'R', 'AA2', 'D']),\n",
              " ('grinds', ['G', 'R', 'AY1', 'N', 'D', 'Z']),\n",
              " ('grindstaff', ['G', 'R', 'AY1', 'N', 'D', 'S', 'T', 'AE2', 'F']),\n",
              " ('grindstone', ['G', 'R', 'AY1', 'N', 'D', 'S', 'T', 'OW2', 'N']),\n",
              " ('grine', ['G', 'R', 'AY1', 'N']),\n",
              " ('griner', ['G', 'R', 'AY1', 'N', 'ER0']),\n",
              " ('gring', ['G', 'R', 'IH1', 'NG']),\n",
              " ('gringo', ['G', 'R', 'IH1', 'NG', 'G', 'OW0']),\n",
              " ('gringos', ['G', 'R', 'IH1', 'NG', 'G', 'OW0', 'Z']),\n",
              " ('grinned', ['G', 'R', 'IH1', 'N', 'D']),\n",
              " ('grinnell', ['G', 'R', 'IH0', 'N', 'EH1', 'L']),\n",
              " ('grinning', ['G', 'R', 'IH1', 'N', 'IH0', 'NG']),\n",
              " ('grins', ['G', 'R', 'IH1', 'N', 'Z']),\n",
              " ('grinstead', ['G', 'R', 'IH1', 'N', 'S', 'T', 'EH2', 'D']),\n",
              " ('grinstein', ['G', 'R', 'IH1', 'N', 'S', 'T', 'IY2', 'N']),\n",
              " ('grinstein', ['G', 'R', 'IH1', 'N', 'S', 'T', 'AY2', 'N']),\n",
              " ('grip', ['G', 'R', 'IH1', 'P']),\n",
              " ('gripe', ['G', 'R', 'AY1', 'P']),\n",
              " ('griped', ['G', 'R', 'AY1', 'P', 'T']),\n",
              " ('gripes', ['G', 'R', 'AY1', 'P', 'S']),\n",
              " ('griping', ['G', 'R', 'AY1', 'P', 'IH0', 'NG']),\n",
              " ('gripp', ['G', 'R', 'IH1', 'P']),\n",
              " ('gripped', ['G', 'R', 'IH1', 'P', 'T']),\n",
              " ('grippi', ['G', 'R', 'IH1', 'P', 'IY0']),\n",
              " ('gripping', ['G', 'R', 'IH1', 'P', 'IH0', 'NG']),\n",
              " ('grippo', ['G', 'R', 'IH1', 'P', 'OW0']),\n",
              " ('grips', ['G', 'R', 'IH1', 'P', 'S']),\n",
              " ('grisanti', ['G', 'R', 'IH0', 'S', 'AE1', 'N', 'T', 'IY0']),\n",
              " ('grisby', ['G', 'R', 'IH1', 'S', 'B', 'IY0']),\n",
              " ('griscom', ['G', 'R', 'IH1', 'S', 'K', 'AH0', 'M']),\n",
              " ('grise', ['G', 'R', 'AY1', 'Z']),\n",
              " ('grisham', ['G', 'R', 'IH1', 'SH', 'AH0', 'M']),\n",
              " (\"grisham's\", ['G', 'R', 'IH1', 'SH', 'AH0', 'M', 'Z']),\n",
              " ('grishilda', ['G', 'R', 'IH0', 'SH', 'IH1', 'L', 'D', 'AH0']),\n",
              " ('grishman', ['G', 'R', 'IH1', 'SH', 'M', 'AH0', 'N'])]"
            ]
          },
          "metadata": {
            "tags": []
          },
          "execution_count": 4
        }
      ]
    },
    {
      "cell_type": "code",
      "metadata": {
        "id": "-1kQ4pwhJCsK",
        "colab_type": "code",
        "colab": {
          "base_uri": "https://localhost:8080/",
          "height": 476
        },
        "outputId": "6ebe3bdf-42ed-4e07-89d5-6b8a05cc43f1"
      },
      "source": [
        "from nltk.corpus import wordnet as wn\n",
        "wn.synsets('good')\n"
      ],
      "execution_count": 5,
      "outputs": [
        {
          "output_type": "execute_result",
          "data": {
            "text/plain": [
              "[Synset('good.n.01'),\n",
              " Synset('good.n.02'),\n",
              " Synset('good.n.03'),\n",
              " Synset('commodity.n.01'),\n",
              " Synset('good.a.01'),\n",
              " Synset('full.s.06'),\n",
              " Synset('good.a.03'),\n",
              " Synset('estimable.s.02'),\n",
              " Synset('beneficial.s.01'),\n",
              " Synset('good.s.06'),\n",
              " Synset('good.s.07'),\n",
              " Synset('adept.s.01'),\n",
              " Synset('good.s.09'),\n",
              " Synset('dear.s.02'),\n",
              " Synset('dependable.s.04'),\n",
              " Synset('good.s.12'),\n",
              " Synset('good.s.13'),\n",
              " Synset('effective.s.04'),\n",
              " Synset('good.s.15'),\n",
              " Synset('good.s.16'),\n",
              " Synset('good.s.17'),\n",
              " Synset('good.s.18'),\n",
              " Synset('good.s.19'),\n",
              " Synset('good.s.20'),\n",
              " Synset('good.s.21'),\n",
              " Synset('well.r.01'),\n",
              " Synset('thoroughly.r.02')]"
            ]
          },
          "metadata": {
            "tags": []
          },
          "execution_count": 5
        }
      ]
    },
    {
      "cell_type": "code",
      "metadata": {
        "id": "G9ylwp32JLnk",
        "colab_type": "code",
        "colab": {
          "base_uri": "https://localhost:8080/",
          "height": 34
        },
        "outputId": "092e8e9c-f083-4345-d249-bab4f1a78c5d"
      },
      "source": [
        "wn.synset('good.n.03').lemma_names()"
      ],
      "execution_count": 6,
      "outputs": [
        {
          "output_type": "execute_result",
          "data": {
            "text/plain": [
              "['good', 'goodness']"
            ]
          },
          "metadata": {
            "tags": []
          },
          "execution_count": 6
        }
      ]
    },
    {
      "cell_type": "code",
      "metadata": {
        "id": "ydwp7ebCJT3W",
        "colab_type": "code",
        "colab": {
          "base_uri": "https://localhost:8080/",
          "height": 35
        },
        "outputId": "561800de-45c1-4a51-dcf4-f3739d53f28c"
      },
      "source": [
        "import nltk\n",
        "from nltk.stem import PorterStemmer\n",
        "stemmerporter=PorterStemmer()\n",
        "stemmerporter.stem('happiness')"
      ],
      "execution_count": 7,
      "outputs": [
        {
          "output_type": "execute_result",
          "data": {
            "application/vnd.google.colaboratory.intrinsic+json": {
              "type": "string"
            },
            "text/plain": [
              "'happi'"
            ]
          },
          "metadata": {
            "tags": []
          },
          "execution_count": 7
        }
      ]
    },
    {
      "cell_type": "code",
      "metadata": {
        "id": "H6W9IlXhJb3a",
        "colab_type": "code",
        "colab": {
          "base_uri": "https://localhost:8080/",
          "height": 35
        },
        "outputId": "7c2b5d7c-cca9-413e-ee90-15ecac7f985d"
      },
      "source": [
        "import nltk\n",
        "from nltk.stem import LancasterStemmer\n",
        "stemmer=LancasterStemmer()\n",
        "stemmer.stem('happiness')"
      ],
      "execution_count": 8,
      "outputs": [
        {
          "output_type": "execute_result",
          "data": {
            "application/vnd.google.colaboratory.intrinsic+json": {
              "type": "string"
            },
            "text/plain": [
              "'happy'"
            ]
          },
          "metadata": {
            "tags": []
          },
          "execution_count": 8
        }
      ]
    },
    {
      "cell_type": "code",
      "metadata": {
        "id": "y9G4Dy0CJfln",
        "colab_type": "code",
        "colab": {
          "base_uri": "https://localhost:8080/",
          "height": 35
        },
        "outputId": "387087fd-2ab3-4ca2-a501-540798116065"
      },
      "source": [
        "import nltk\n",
        "from nltk.stem import SnowballStemmer\n",
        "stemmer=SnowballStemmer('english')\n",
        "stemmer.stem('happiness')"
      ],
      "execution_count": 9,
      "outputs": [
        {
          "output_type": "execute_result",
          "data": {
            "application/vnd.google.colaboratory.intrinsic+json": {
              "type": "string"
            },
            "text/plain": [
              "'happi'"
            ]
          },
          "metadata": {
            "tags": []
          },
          "execution_count": 9
        }
      ]
    },
    {
      "cell_type": "code",
      "metadata": {
        "id": "5QYA_9BpJkNi",
        "colab_type": "code",
        "colab": {
          "base_uri": "https://localhost:8080/",
          "height": 34
        },
        "outputId": "d88b9470-86ef-4ecb-a098-960135b5ec25"
      },
      "source": [
        "import nltk\n",
        "from nltk.stem import PorterStemmer\n",
        "stemmerporter=PorterStemmer()\n",
        "e=\"Inherited Will, The Destiny of the Age, and The Dreams of the People. As long as people continue to pursue the meaning of Freedom, these things will never cease to be!\"\n",
        "e=[stemmerporter.stem(token) for token in e.split(\" \")]\n",
        "print(\" \".join(e))"
      ],
      "execution_count": 11,
      "outputs": [
        {
          "output_type": "stream",
          "text": [
            "inherit will, the destini of the age, and the dream of the people. As long as peopl continu to pursu the mean of freedom, these thing will never ceas to be!\n"
          ],
          "name": "stdout"
        }
      ]
    },
    {
      "cell_type": "code",
      "metadata": {
        "id": "zr7TOj2lJyaq",
        "colab_type": "code",
        "colab": {
          "base_uri": "https://localhost:8080/",
          "height": 34
        },
        "outputId": "9281e733-4e4f-410b-9009-deb80bc58d9b"
      },
      "source": [
        "import nltk\n",
        "from nltk.stem import WordNetLemmatizer\n",
        "lemmatizer=WordNetLemmatizer()\n",
        "print(lemmatizer.lemmatize(\"cacti\"))"
      ],
      "execution_count": 12,
      "outputs": [
        {
          "output_type": "stream",
          "text": [
            "cactus\n"
          ],
          "name": "stdout"
        }
      ]
    },
    {
      "cell_type": "code",
      "metadata": {
        "id": "ghHozcNnJ19H",
        "colab_type": "code",
        "colab": {
          "base_uri": "https://localhost:8080/",
          "height": 34
        },
        "outputId": "535fe754-4dc5-4ffb-fc4d-48ed63f0753c"
      },
      "source": [
        "\n",
        "print(lemmatizer.lemmatize(\"better\",pos='a'))\n"
      ],
      "execution_count": 13,
      "outputs": [
        {
          "output_type": "stream",
          "text": [
            "good\n"
          ],
          "name": "stdout"
        }
      ]
    },
    {
      "cell_type": "code",
      "metadata": {
        "id": "KtrBmrioJ6Ab",
        "colab_type": "code",
        "colab": {
          "base_uri": "https://localhost:8080/",
          "height": 122
        },
        "outputId": "a913cf3b-89fb-41cf-c900-d4a8dad815db"
      },
      "source": [
        "import jieba\n",
        "seg=jieba.cut(\"和其它版本的维基百科一样，中文维基百科也是民主制、精英制、特权制的混合，通常大部分的内容，由普通的网友讨论、修改，通常为民主的形式，而维基管理员則因特殊、適當的理由而解除部分限制，例如修改首頁、删除不適當的条目或封禁用户。\",cut_all=True)\n",
        "print(\" \".join(seg))"
      ],
      "execution_count": 14,
      "outputs": [
        {
          "output_type": "stream",
          "text": [
            "Building prefix dict from the default dictionary ...\n",
            "Dumping model to file cache /tmp/jieba.cache\n",
            "Loading model cost 0.936 seconds.\n",
            "Prefix dict has been built successfully.\n"
          ],
          "name": "stderr"
        },
        {
          "output_type": "stream",
          "text": [
            "和 其它 版本 的 维基 维基百 维基百科 百科 一样 ， 中文 维基 维基百 维基百科 百科 也 是 民主 民主制 、 精英 英制 、 特权 权制 的 混合 ， 通常 大部 大部分 部分 的 内容 ， 由 普通 的 网友 讨论 、 修改 ， 通常 为民 民主 的 形式 ， 而 维基 管理 管理员 則 因特 特殊 、 適 當 的 理由 而 解除 部分 限制 ， 例如 修改 首 頁 、 删除 不 適 當 的 条目 或 封禁 禁用 用户 。\n"
          ],
          "name": "stdout"
        }
      ]
    },
    {
      "cell_type": "code",
      "metadata": {
        "id": "qbvThHOYKAZi",
        "colab_type": "code",
        "colab": {}
      },
      "source": [
        ""
      ],
      "execution_count": null,
      "outputs": []
    }
  ]
}