{
  "nbformat": 4,
  "nbformat_minor": 0,
  "metadata": {
    "colab": {
      "name": "Untitled3.ipynb",
      "provenance": [],
      "collapsed_sections": [],
      "authorship_tag": "ABX9TyND/pkTVRjp01HDNLXfjSl9",
      "include_colab_link": true
    },
    "kernelspec": {
      "name": "python3",
      "display_name": "Python 3"
    }
  },
  "cells": [
    {
      "cell_type": "markdown",
      "metadata": {
        "id": "view-in-github",
        "colab_type": "text"
      },
      "source": [
        "<a href=\"https://colab.research.google.com/github/lopeselio/NLP-weekly/blob/master/NER%2009%20October%202020.ipynb\" target=\"_parent\"><img src=\"https://colab.research.google.com/assets/colab-badge.svg\" alt=\"Open In Colab\"/></a>"
      ]
    },
    {
      "cell_type": "code",
      "metadata": {
        "id": "Suz15zSUOMlW",
        "outputId": "8be00833-7dfd-4bf9-9995-9c4af433aed6",
        "colab": {
          "base_uri": "https://localhost:8080/",
          "height": 392
        }
      },
      "source": [
        "pip install spacy "
      ],
      "execution_count": 1,
      "outputs": [
        {
          "output_type": "stream",
          "text": [
            "Requirement already satisfied: spacy in /usr/local/lib/python3.6/dist-packages (2.2.4)\n",
            "Requirement already satisfied: catalogue<1.1.0,>=0.0.7 in /usr/local/lib/python3.6/dist-packages (from spacy) (1.0.0)\n",
            "Requirement already satisfied: thinc==7.4.0 in /usr/local/lib/python3.6/dist-packages (from spacy) (7.4.0)\n",
            "Requirement already satisfied: murmurhash<1.1.0,>=0.28.0 in /usr/local/lib/python3.6/dist-packages (from spacy) (1.0.2)\n",
            "Requirement already satisfied: numpy>=1.15.0 in /usr/local/lib/python3.6/dist-packages (from spacy) (1.18.5)\n",
            "Requirement already satisfied: setuptools in /usr/local/lib/python3.6/dist-packages (from spacy) (50.3.0)\n",
            "Requirement already satisfied: plac<1.2.0,>=0.9.6 in /usr/local/lib/python3.6/dist-packages (from spacy) (1.1.3)\n",
            "Requirement already satisfied: wasabi<1.1.0,>=0.4.0 in /usr/local/lib/python3.6/dist-packages (from spacy) (0.8.0)\n",
            "Requirement already satisfied: tqdm<5.0.0,>=4.38.0 in /usr/local/lib/python3.6/dist-packages (from spacy) (4.41.1)\n",
            "Requirement already satisfied: srsly<1.1.0,>=1.0.2 in /usr/local/lib/python3.6/dist-packages (from spacy) (1.0.2)\n",
            "Requirement already satisfied: requests<3.0.0,>=2.13.0 in /usr/local/lib/python3.6/dist-packages (from spacy) (2.23.0)\n",
            "Requirement already satisfied: cymem<2.1.0,>=2.0.2 in /usr/local/lib/python3.6/dist-packages (from spacy) (2.0.3)\n",
            "Requirement already satisfied: preshed<3.1.0,>=3.0.2 in /usr/local/lib/python3.6/dist-packages (from spacy) (3.0.2)\n",
            "Requirement already satisfied: blis<0.5.0,>=0.4.0 in /usr/local/lib/python3.6/dist-packages (from spacy) (0.4.1)\n",
            "Requirement already satisfied: importlib-metadata>=0.20; python_version < \"3.8\" in /usr/local/lib/python3.6/dist-packages (from catalogue<1.1.0,>=0.0.7->spacy) (2.0.0)\n",
            "Requirement already satisfied: chardet<4,>=3.0.2 in /usr/local/lib/python3.6/dist-packages (from requests<3.0.0,>=2.13.0->spacy) (3.0.4)\n",
            "Requirement already satisfied: idna<3,>=2.5 in /usr/local/lib/python3.6/dist-packages (from requests<3.0.0,>=2.13.0->spacy) (2.10)\n",
            "Requirement already satisfied: urllib3!=1.25.0,!=1.25.1,<1.26,>=1.21.1 in /usr/local/lib/python3.6/dist-packages (from requests<3.0.0,>=2.13.0->spacy) (1.24.3)\n",
            "Requirement already satisfied: certifi>=2017.4.17 in /usr/local/lib/python3.6/dist-packages (from requests<3.0.0,>=2.13.0->spacy) (2020.6.20)\n",
            "Requirement already satisfied: zipp>=0.5 in /usr/local/lib/python3.6/dist-packages (from importlib-metadata>=0.20; python_version < \"3.8\"->catalogue<1.1.0,>=0.0.7->spacy) (3.2.0)\n"
          ],
          "name": "stdout"
        }
      ]
    },
    {
      "cell_type": "code",
      "metadata": {
        "id": "Rl6ef86dOXMj"
      },
      "source": [
        "import spacy\n",
        "\n",
        "spacy.prefer_gpu()\n",
        "nlp = spacy.load(\"en_core_web_sm\")"
      ],
      "execution_count": 5,
      "outputs": []
    },
    {
      "cell_type": "code",
      "metadata": {
        "id": "epLb64XXQ9z4"
      },
      "source": [
        "example1 = \"Google was officially launched in 1998 by Larry Page and Sergey Brin to market Google Search, which has become the most used web-based search engine. Larry Page and Sergey Brin, students at Stanford University in California, developed a search algorithm at first known as Backrub in 1996, with the help of Scott Hassan and Alan Steremberg. The search engine soon proved successful and the expanding company moved several times, finally settling at Mountain View in 2003. This marked a phase of rapid growth, with the company making its initial public offering in 2004 and quickly becoming one of the world's largest media companies. The company launched Google News in 2002, Gmail in 2004, Google Maps in 2005, Google Chrome in 2008, and the social network known as Google+ in 2011 (which was shut down in April 2019), in addition to many other products. In 2015, Google became the main subsidiary of the holding company Alphabet Inc. The search engine went through many updates in attempts to combat search engine optimization abuse, provide dynamic updating of results, and make the indexing system rapid and flexible. Search results started to be personalized in 2005, and later Google Suggest autocompletion was introduced. From 2007, Universal Search provided all types of content, not just text content, in search results. Google has engaged in partnerships with NASA, AOL, Sun Microsystems, News Corporation, Sky UK, and others. The company set up a charitable offshoot, Google.org, in 2005. The name Google is a misspelling of Googol, the number 1 followed by 100 zeros, which was picked to signify that the search engine was intended to provide large quantities of information.\""
      ],
      "execution_count": 7,
      "outputs": []
    },
    {
      "cell_type": "code",
      "metadata": {
        "id": "9P8ZSy0TR9cr",
        "outputId": "ed444cb1-36b5-43fa-91df-688b704f1a08",
        "colab": {
          "base_uri": "https://localhost:8080/",
          "height": 55
        }
      },
      "source": [
        "doc1 = nlp(example1)\n",
        "doc1"
      ],
      "execution_count": 11,
      "outputs": [
        {
          "output_type": "execute_result",
          "data": {
            "text/plain": [
              "Google was officially launched in 1998 by Larry Page and Sergey Brin to market Google Search, which has become the most used web-based search engine. Larry Page and Sergey Brin, students at Stanford University in California, developed a search algorithm at first known as Backrub in 1996, with the help of Scott Hassan and Alan Steremberg. The search engine soon proved successful and the expanding company moved several times, finally settling at Mountain View in 2003. This marked a phase of rapid growth, with the company making its initial public offering in 2004 and quickly becoming one of the world's largest media companies. The company launched Google News in 2002, Gmail in 2004, Google Maps in 2005, Google Chrome in 2008, and the social network known as Google+ in 2011 (which was shut down in April 2019), in addition to many other products. In 2015, Google became the main subsidiary of the holding company Alphabet Inc. The search engine went through many updates in attempts to combat search engine optimization abuse, provide dynamic updating of results, and make the indexing system rapid and flexible. Search results started to be personalized in 2005, and later Google Suggest autocompletion was introduced. From 2007, Universal Search provided all types of content, not just text content, in search results. Google has engaged in partnerships with NASA, AOL, Sun Microsystems, News Corporation, Sky UK, and others. The company set up a charitable offshoot, Google.org, in 2005. The name Google is a misspelling of Googol, the number 1 followed by 100 zeros, which was picked to signify that the search engine was intended to provide large quantities of information."
            ]
          },
          "metadata": {
            "tags": []
          },
          "execution_count": 11
        }
      ]
    },
    {
      "cell_type": "code",
      "metadata": {
        "id": "rVEMzzHxSy7s",
        "outputId": "efe51607-8485-4e87-e91d-8feb0a49f90c",
        "colab": {
          "base_uri": "https://localhost:8080/",
          "height": 852
        }
      },
      "source": [
        "for ent in doc1.ents:\n",
        "  print(ent.text, ent.label_)"
      ],
      "execution_count": 13,
      "outputs": [
        {
          "output_type": "stream",
          "text": [
            "Google ORG\n",
            "1998 DATE\n",
            "Larry Page PERSON\n",
            "Sergey Brin PERSON\n",
            "Google Search PERSON\n",
            "Larry Page PERSON\n",
            "Sergey Brin PERSON\n",
            "Stanford University ORG\n",
            "California GPE\n",
            "first ORDINAL\n",
            "Backrub ORG\n",
            "1996 DATE\n",
            "Scott Hassan PERSON\n",
            "Alan Steremberg PERSON\n",
            "Mountain View FAC\n",
            "2003 DATE\n",
            "2004 DATE\n",
            "one CARDINAL\n",
            "Google News ORG\n",
            "2002 DATE\n",
            "Gmail PERSON\n",
            "2004 DATE\n",
            "Google Maps PERSON\n",
            "2005 DATE\n",
            "Google Chrome ORG\n",
            "2008 DATE\n",
            "2011 DATE\n",
            "April 2019 DATE\n",
            "2015 DATE\n",
            "Google ORG\n",
            "Alphabet Inc. ORG\n",
            "2005 DATE\n",
            "Google Suggest ORG\n",
            "2007 DATE\n",
            "Universal Search ORG\n",
            "Google ORG\n",
            "NASA ORG\n",
            "AOL ORG\n",
            "Sun Microsystems ORG\n",
            "News Corporation ORG\n",
            "Sky UK GPE\n",
            "Google.org ORG\n",
            "2005 DATE\n",
            "Google ORG\n",
            "Googol PRODUCT\n",
            "1 CARDINAL\n",
            "100 zeros MONEY\n"
          ],
          "name": "stdout"
        }
      ]
    },
    {
      "cell_type": "code",
      "metadata": {
        "id": "HwW6THfnTLFI",
        "outputId": "eb35cf0a-2a90-4181-9c49-09501dcf4456",
        "colab": {
          "base_uri": "https://localhost:8080/",
          "height": 55
        }
      },
      "source": [
        "exapmle2 = \"Millie Bobby Brown (born 19 February 2004)[1] is an English actress and producer.[2] She rose to prominence for her role as Eleven in the Netflix science fiction series Stranger Things (2016–present),[3] for which she received Primetime Emmy Award nominations for Outstanding Supporting Actress in a Drama Series.[4] She starred in and produced the mystery film Enola Holmes (2020) and starred in the monster film Godzilla: King of the Monsters (2019). In 2018, she was featured in the Time 100 list of the world's most influential people[5] and is the youngest person to be appointed a UNICEF Goodwill Ambassador. Brown was born in Marbella, Málaga, Andalusia, Spain,[6] the third of four children of English parents, Kelly and Robert Brown.[7] The family moved to Bournemouth, Dorset, when she was around four years old, then to Windermere, Florida, four years later.[8][9] She was born with partial hearing in one ear, gradually losing all hearing in that ear over several years.In 2013, Brown made her acting debut as a guest star in the ABC fantasy drama series Once Upon a Time in Wonderland, a spin-off of Once Upon a Time, portraying the role of Young Alice. In 2014, she had a starring role in the BBC America paranormal drama-thriller series Intruders as Madison O'Donnell.[11] She then made guest appearances in the CBS police procedural drama NCIS, the ABC sitcom Modern Family, and the ABC medical drama series Grey's Anatomy.\"\n",
        "doc2 = nlp(exapmle2)\n",
        "doc2"
      ],
      "execution_count": 16,
      "outputs": [
        {
          "output_type": "execute_result",
          "data": {
            "text/plain": [
              "Millie Bobby Brown (born 19 February 2004)[1] is an English actress and producer.[2] She rose to prominence for her role as Eleven in the Netflix science fiction series Stranger Things (2016–present),[3] for which she received Primetime Emmy Award nominations for Outstanding Supporting Actress in a Drama Series.[4] She starred in and produced the mystery film Enola Holmes (2020) and starred in the monster film Godzilla: King of the Monsters (2019). In 2018, she was featured in the Time 100 list of the world's most influential people[5] and is the youngest person to be appointed a UNICEF Goodwill Ambassador. Brown was born in Marbella, Málaga, Andalusia, Spain,[6] the third of four children of English parents, Kelly and Robert Brown.[7] The family moved to Bournemouth, Dorset, when she was around four years old, then to Windermere, Florida, four years later.[8][9] She was born with partial hearing in one ear, gradually losing all hearing in that ear over several years.In 2013, Brown made her acting debut as a guest star in the ABC fantasy drama series Once Upon a Time in Wonderland, a spin-off of Once Upon a Time, portraying the role of Young Alice. In 2014, she had a starring role in the BBC America paranormal drama-thriller series Intruders as Madison O'Donnell.[11] She then made guest appearances in the CBS police procedural drama NCIS, the ABC sitcom Modern Family, and the ABC medical drama series Grey's Anatomy."
            ]
          },
          "metadata": {
            "tags": []
          },
          "execution_count": 16
        }
      ]
    },
    {
      "cell_type": "code",
      "metadata": {
        "id": "o9MQ2uT2Ttz7",
        "outputId": "218e2e20-19d1-448d-e772-851f656ed2d6",
        "colab": {
          "base_uri": "https://localhost:8080/",
          "height": 835
        }
      },
      "source": [
        "for ent in doc2.ents:\n",
        "  print(ent.text, ent.label_)"
      ],
      "execution_count": 17,
      "outputs": [
        {
          "output_type": "stream",
          "text": [
            "Millie Bobby Brown PERSON\n",
            "19 CARDINAL\n",
            "English NORP\n",
            "Eleven PERSON\n",
            "Netflix GPE\n",
            "Stranger Things WORK_OF_ART\n",
            "Primetime Emmy Award LOC\n",
            "Outstanding Supporting Actress WORK_OF_ART\n",
            "2020 DATE\n",
            "Godzilla PERSON\n",
            "2018 DATE\n",
            "100 CARDINAL\n",
            "UNICEF Goodwill ORG\n",
            "Brown PERSON\n",
            "Marbella GPE\n",
            "Málaga GPE\n",
            "Andalusia GPE\n",
            "third ORDINAL\n",
            "four CARDINAL\n",
            "English LANGUAGE\n",
            "Kelly PERSON\n",
            "Robert Brown.[7 PERSON\n",
            "Bournemouth ORG\n",
            "Dorset GPE\n",
            "four years old DATE\n",
            "Windermere GPE\n",
            "Florida GPE\n",
            "four years DATE\n",
            "one CARDINAL\n",
            "several years DATE\n",
            "2013 DATE\n",
            "Brown PERSON\n",
            "ABC ORG\n",
            "Once Upon a Time in Wonderland WORK_OF_ART\n",
            "Once Upon a Time WORK_OF_ART\n",
            "Young Alice WORK_OF_ART\n",
            "2014 DATE\n",
            "BBC America LOC\n",
            "Intruders ORG\n",
            "Madison PERSON\n",
            "CBS ORG\n",
            "NCIS ORG\n",
            "ABC ORG\n",
            "Modern Family PERSON\n",
            "ABC ORG\n",
            "Grey's Anatomy WORK_OF_ART\n"
          ],
          "name": "stdout"
        }
      ]
    },
    {
      "cell_type": "code",
      "metadata": {
        "id": "y0EIVundV0tK",
        "outputId": "7645fd64-636a-4ed2-d925-c35ea2a704ca",
        "colab": {
          "base_uri": "https://localhost:8080/",
          "height": 35
        }
      },
      "source": [
        "#Querying\n",
        "locs = [(\"Omnicon\",\"IN\", \"New York\"),(\"Georgia-Pacific\",\"IN\",\"Atlanta\"),(\"DOB Needhan\",\"IN\",\"New York\")]\n",
        "query = [e1 for(e1, rel, e2) in locs if e2 == \"Atlanta\"]\n",
        "query"
      ],
      "execution_count": 21,
      "outputs": [
        {
          "output_type": "execute_result",
          "data": {
            "text/plain": [
              "['Georgia-Pacific']"
            ]
          },
          "metadata": {
            "tags": []
          },
          "execution_count": 21
        }
      ]
    }
  ]
}