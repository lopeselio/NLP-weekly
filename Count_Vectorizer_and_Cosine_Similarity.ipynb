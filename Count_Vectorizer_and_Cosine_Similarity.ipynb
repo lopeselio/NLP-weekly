{
  "nbformat": 4,
  "nbformat_minor": 0,
  "metadata": {
    "colab": {
      "name": "Count Vectorizer and Cosine Similarity.ipynb",
      "provenance": [],
      "authorship_tag": "ABX9TyOUXiX93o+y4VtBxXg0tp2U",
      "include_colab_link": true
    },
    "kernelspec": {
      "name": "python3",
      "display_name": "Python 3"
    }
  },
  "cells": [
    {
      "cell_type": "markdown",
      "metadata": {
        "id": "view-in-github",
        "colab_type": "text"
      },
      "source": [
        "<a href=\"https://colab.research.google.com/github/lopeselio/NLP-weekly/blob/master/Count_Vectorizer_and_Cosine_Similarity.ipynb\" target=\"_parent\"><img src=\"https://colab.research.google.com/assets/colab-badge.svg\" alt=\"Open In Colab\"/></a>"
      ]
    },
    {
      "cell_type": "code",
      "metadata": {
        "id": "4uhpqLgBf0w5"
      },
      "source": [
        "from sklearn.feature_extraction.text import CountVectorizer\n",
        "vect=CountVectorizer(binary=True)\n",
        "corpus = [\"Millie Bobby Brown is an English actress and producer.\", \"She rose to prominence for her role as Eleven in the Netflix science fiction series Stranger Things, for which she received Primetime Emmy Award nominations for Outstanding Supporting Actress in a Drama Series.\"]"
      ],
      "execution_count": 7,
      "outputs": []
    },
    {
      "cell_type": "code",
      "metadata": {
        "id": "6cP82YKwgATZ",
        "outputId": "368b0739-5746-4b5f-c1ca-7724d1a43e24",
        "colab": {
          "base_uri": "https://localhost:8080/",
          "height": 124
        }
      },
      "source": [
        "vect.fit(corpus)"
      ],
      "execution_count": 8,
      "outputs": [
        {
          "output_type": "execute_result",
          "data": {
            "text/plain": [
              "CountVectorizer(analyzer='word', binary=True, decode_error='strict',\n",
              "                dtype=<class 'numpy.int64'>, encoding='utf-8', input='content',\n",
              "                lowercase=True, max_df=1.0, max_features=None, min_df=1,\n",
              "                ngram_range=(1, 1), preprocessor=None, stop_words=None,\n",
              "                strip_accents=None, token_pattern='(?u)\\\\b\\\\w\\\\w+\\\\b',\n",
              "                tokenizer=None, vocabulary=None)"
            ]
          },
          "metadata": {
            "tags": []
          },
          "execution_count": 8
        }
      ]
    },
    {
      "cell_type": "code",
      "metadata": {
        "id": "Wqz_nEyLgD2t",
        "outputId": "bce560bb-7010-4c41-97b6-80812fa1c5d5",
        "colab": {
          "base_uri": "https://localhost:8080/",
          "height": 639
        }
      },
      "source": [
        "vocab=vect.vocabulary_\n",
        "vocab"
      ],
      "execution_count": 9,
      "outputs": [
        {
          "output_type": "execute_result",
          "data": {
            "text/plain": [
              "{'actress': 0,\n",
              " 'an': 1,\n",
              " 'and': 2,\n",
              " 'as': 3,\n",
              " 'award': 4,\n",
              " 'bobby': 5,\n",
              " 'brown': 6,\n",
              " 'drama': 7,\n",
              " 'eleven': 8,\n",
              " 'emmy': 9,\n",
              " 'english': 10,\n",
              " 'fiction': 11,\n",
              " 'for': 12,\n",
              " 'her': 13,\n",
              " 'in': 14,\n",
              " 'is': 15,\n",
              " 'millie': 16,\n",
              " 'netflix': 17,\n",
              " 'nominations': 18,\n",
              " 'outstanding': 19,\n",
              " 'primetime': 20,\n",
              " 'producer': 21,\n",
              " 'prominence': 22,\n",
              " 'received': 23,\n",
              " 'role': 24,\n",
              " 'rose': 25,\n",
              " 'science': 26,\n",
              " 'series': 27,\n",
              " 'she': 28,\n",
              " 'stranger': 29,\n",
              " 'supporting': 30,\n",
              " 'the': 31,\n",
              " 'things': 32,\n",
              " 'to': 33,\n",
              " 'which': 34}"
            ]
          },
          "metadata": {
            "tags": []
          },
          "execution_count": 9
        }
      ]
    },
    {
      "cell_type": "code",
      "metadata": {
        "id": "mU2sq8GJgGrW",
        "outputId": "19af7eae-a15e-40a7-bcef-61969930906b",
        "colab": {
          "base_uri": "https://localhost:8080/",
          "height": 639
        }
      },
      "source": [
        "for key in sorted(vocab.keys()):\n",
        "    print(\"{}:{}\".format(key, vocab[key]))"
      ],
      "execution_count": 10,
      "outputs": [
        {
          "output_type": "stream",
          "text": [
            "actress:0\n",
            "an:1\n",
            "and:2\n",
            "as:3\n",
            "award:4\n",
            "bobby:5\n",
            "brown:6\n",
            "drama:7\n",
            "eleven:8\n",
            "emmy:9\n",
            "english:10\n",
            "fiction:11\n",
            "for:12\n",
            "her:13\n",
            "in:14\n",
            "is:15\n",
            "millie:16\n",
            "netflix:17\n",
            "nominations:18\n",
            "outstanding:19\n",
            "primetime:20\n",
            "producer:21\n",
            "prominence:22\n",
            "received:23\n",
            "role:24\n",
            "rose:25\n",
            "science:26\n",
            "series:27\n",
            "she:28\n",
            "stranger:29\n",
            "supporting:30\n",
            "the:31\n",
            "things:32\n",
            "to:33\n",
            "which:34\n"
          ],
          "name": "stdout"
        }
      ]
    },
    {
      "cell_type": "code",
      "metadata": {
        "id": "j53-FcPSgPtl",
        "outputId": "b9556d5b-2430-4aec-9b3b-30082e2ab5f3",
        "colab": {
          "base_uri": "https://localhost:8080/",
          "height": 35
        }
      },
      "source": [
        "print(vect.transform([\"Millie earned a Primetime Emmy Award nomination for Outstanding Supporting Actress in a Drama Series at age 13.\"]).toarray())"
      ],
      "execution_count": 11,
      "outputs": [
        {
          "output_type": "stream",
          "text": [
            "[[1 0 0 0 1 0 0 1 0 1 0 0 1 0 1 0 1 0 0 1 1 0 0 0 0 0 0 1 0 0 1 0 0 0 0]]\n"
          ],
          "name": "stdout"
        }
      ]
    },
    {
      "cell_type": "code",
      "metadata": {
        "id": "0yMnDNJngUgV",
        "outputId": "526890f6-922f-4f81-cdfd-36cc6078f588",
        "colab": {
          "base_uri": "https://localhost:8080/",
          "height": 35
        }
      },
      "source": [
        "from sklearn.metrics.pairwise import cosine_similarity\n",
        "similarity = cosine_similarity(vect.transform([\"Millie Bobby Brown is a Spanish-born British actress who was born on February 19, 2004. Her family moved back to the U.K. when Brown was four years old and then moved to Orlando, Florida, four years later to start an entrepreneurial business.\"]).toarray(), vect.transform([\"Millie Bobby Brown is an English actress and producer.\"]).toarray())\n",
        "print(similarity)"
      ],
      "execution_count": 14,
      "outputs": [
        {
          "output_type": "stream",
          "text": [
            "[[0.73786479]]\n"
          ],
          "name": "stdout"
        }
      ]
    }
  ]
}